{
 "cells": [
  {
   "cell_type": "code",
   "execution_count": 1,
   "id": "467cca0f",
   "metadata": {},
   "outputs": [],
   "source": [
    "#Import the required libraries\n",
    "from PIL import Image\n",
    "import os"
   ]
  },
  {
   "cell_type": "code",
   "execution_count": 2,
   "id": "ca6fe417",
   "metadata": {},
   "outputs": [],
   "source": [
    "#create a class that performs the data loading operations\n",
    "class BSD300Dataset():\n",
    "\n",
    "    def __init__(self, patch_size = 128):\n",
    "\n",
    "        #set patch size\n",
    "        self.patch = patch_size\n",
    "        paths  = []\n",
    "\n",
    "        #All images in train and test folders are added to the list of availabe paths\n",
    "        for filename in os.listdir('test'):\n",
    "            if os.path.isfile(os.path.join('test', filename)):\n",
    "                paths.append('test/'+filename)\n",
    "        for filename in os.listdir('train'):\n",
    "            if os.path.isfile(os.path.join('train', filename)):\n",
    "                paths.append('train/'+filename)\n",
    "\n",
    "        #Saving the path       \n",
    "        self.image_paths = paths\n",
    "        \n",
    "    #This function returns the length of available paths        \n",
    "    def __len__(self):\n",
    "        return len(self.image_paths)\n",
    "\n",
    "    #This internal function is used to perform operations\n",
    "    def __getitem__(self, idx):\n",
    "        img_path = idx\n",
    "\n",
    "        #Each image is opened, greyscaled and resized according to patch size\n",
    "        img_rgb = Image.open(img_path)\n",
    "        img_gray = img_rgb.convert('L')        \n",
    "        patch = self.patch\n",
    "        new_image = img_gray.resize((patch, patch))\n",
    "\n",
    "        return new_image\n",
    "\n",
    "#Class is initialized\n",
    "bsd_dataset = BSD300Dataset(patch_size = 100)\n",
    "\n",
    "#Output folder is made\n",
    "if not os.path.isdir(\"Output_images\"):\n",
    "    os.makedirs(\"Output_images\")\n",
    "\n",
    "#For each image in tet and train, it is greyscaled and resized\n",
    "for i in range(len(bsd_dataset)):\n",
    "    sample = bsd_dataset[bsd_dataset.image_paths[i]]\n",
    "    sample.save('Output_images/' + str(i) + '.jpg')\n"
   ]
  },
  {
   "cell_type": "code",
   "execution_count": null,
   "id": "f9ec9692",
   "metadata": {},
   "outputs": [],
   "source": []
  }
 ],
 "metadata": {
  "kernelspec": {
   "display_name": "Python 3",
   "language": "python",
   "name": "python3"
  },
  "language_info": {
   "codemirror_mode": {
    "name": "ipython",
    "version": 3
   },
   "file_extension": ".py",
   "mimetype": "text/x-python",
   "name": "python",
   "nbconvert_exporter": "python",
   "pygments_lexer": "ipython3",
   "version": "3.8.8"
  }
 },
 "nbformat": 4,
 "nbformat_minor": 5
}
