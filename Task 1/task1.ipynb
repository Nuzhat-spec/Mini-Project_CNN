{
 "cells": [
  {
   "cell_type": "code",
   "execution_count": 2,
   "id": "698f9883",
   "metadata": {},
   "outputs": [
    {
     "name": "stdout",
     "output_type": "stream",
     "text": [
      "Requirement already satisfied: bm3d in /Users/nuzhatnishi/opt/anaconda3/lib/python3.8/site-packages (4.0.1)\n",
      "Requirement already satisfied: bm4d>=4.2.3 in /Users/nuzhatnishi/opt/anaconda3/lib/python3.8/site-packages (from bm3d) (4.2.3)\n",
      "Requirement already satisfied: numpy in /Users/nuzhatnishi/opt/anaconda3/lib/python3.8/site-packages (from bm3d) (1.20.1)\n",
      "Requirement already satisfied: scipy in /Users/nuzhatnishi/opt/anaconda3/lib/python3.8/site-packages (from bm3d) (1.8.1)\n",
      "Requirement already satisfied: PyWavelets in /Users/nuzhatnishi/opt/anaconda3/lib/python3.8/site-packages (from bm4d>=4.2.3->bm3d) (1.1.1)\n",
      "Note: you may need to restart the kernel to use updated packages.\n"
     ]
    }
   ],
   "source": [
    "pip install bm3d"
   ]
  },
  {
   "cell_type": "code",
   "execution_count": 3,
   "id": "fc6ee8a8",
   "metadata": {},
   "outputs": [],
   "source": [
    "#Import libraries\n",
    "import numpy as np\n",
    "import matplotlib.pyplot as plt\n",
    "import bm3d\n",
    "import cv2\n",
    "import pywt\n",
    "import os\n",
    "from skimage import io, img_as_float\n",
    "from PIL import Image"
   ]
  },
  {
   "cell_type": "code",
   "execution_count": 4,
   "id": "5968ebcf",
   "metadata": {},
   "outputs": [],
   "source": [
    "#create folder for output images\n",
    "if not os.path.isdir(\"Output_images\"):\n",
    "    os.makedirs(\"Output_images\")"
   ]
  },
  {
   "cell_type": "code",
   "execution_count": 6,
   "id": "666db1c3",
   "metadata": {},
   "outputs": [
    {
     "data": {
      "text/plain": [
       "True"
      ]
     },
     "execution_count": 6,
     "metadata": {},
     "output_type": "execute_result"
    }
   ],
   "source": [
    "#task1.1: Read/load the given image file in rgb and greyscale mode\n",
    "img_file = 'image_Lena512rgb_noi_s25.png'\n",
    "img = cv2.imread(img_file, cv2.IMREAD_COLOR)\n",
    "gray_img = cv2.imread(img_file, cv2.IMREAD_GRAYSCALE)\n",
    "#task1.2: Save greyscale image\n",
    "cv2.imwrite('Output_images/grayscale.png',gray_img)"
   ]
  },
  {
   "cell_type": "code",
   "execution_count": 9,
   "id": "01845b61",
   "metadata": {},
   "outputs": [
    {
     "data": {
      "image/png": "[encoded data removed]",
      "text/plain": [
       "<Figure size 432x288 with 1 Axes>"
      ]
     },
     "metadata": {
      "needs_background": "light"
     },
     "output_type": "display_data"
    }
   ],
   "source": [
    "#task1.3: Plot grayscale histogram \n",
    "dst = cv2.calcHist(gray_img, [0], None, [256], [0,256])\n",
    "plt.hist(img.ravel(),256,[0,256])\n",
    "plt.title('Histogram for Grayscale Image')\n",
    "plt.savefig('Output_images/hist.png')"
   ]
  },
  {
   "cell_type": "code",
   "execution_count": 10,
   "id": "471c7d12",
   "metadata": {},
   "outputs": [
    {
     "data": {
      "text/plain": [
       "True"
      ]
     },
     "execution_count": 10,
     "metadata": {},
     "output_type": "execute_result"
    }
   ],
   "source": [
    "#task1.4: Denoise the image using NLMean algorithm and save the image\n",
    "denoise = cv2.fastNlMeansDenoisingColored(img,None,10,10,7,21)\n",
    "cv2.imwrite('Output_images/denoise_nlmean.png',denoise)"
   ]
  },
  {
   "cell_type": "code",
   "execution_count": 11,
   "id": "334e791f",
   "metadata": {},
   "outputs": [],
   "source": [
    "#task1.5: Denoise the image using BM3D algorithm and save the image\n",
    "img_file = 'image_Lena512rgb_noi_s25.png'\n",
    "img = img_as_float(io.imread(img_file))\n",
    "denoised_image = bm3d.bm3d(img, sigma_psd=0.2, stage_arg=bm3d.BM3DStages.HARD_THRESHOLDING)\n",
    "plt.imsave(\"Output_images/denoise_bm3d.png\", denoised_image)"
   ]
  },
  {
   "cell_type": "code",
   "execution_count": 12,
   "id": "d61df49f",
   "metadata": {},
   "outputs": [
    {
     "data": {
      "text/plain": [
       "True"
      ]
     },
     "execution_count": 12,
     "metadata": {},
     "output_type": "execute_result"
    }
   ],
   "source": [
    "#task1.6: Apply HAAR Decomposition on the greyscale image and save all the output images\n",
    "(cA, (cH, cV, cD)) = pywt.dwt2(gray_img, 'haar')\n",
    "cv2.imwrite('Output_images/Approximation.png',cA)\n",
    "cv2.imwrite('Output_images/Horizontal.png',cH)\n",
    "cv2.imwrite('Output_images/Vertical.png',cV)\n",
    "cv2.imwrite('Output_images/diagonal.png',cD)"
   ]
  },
  {
   "cell_type": "code",
   "execution_count": null,
   "id": "ee1744d4",
   "metadata": {},
   "outputs": [],
   "source": []
  }
 ],
 "metadata": {
  "kernelspec": {
   "display_name": "Python 3",
   "language": "python",
   "name": "python3"
  },
  "language_info": {
   "codemirror_mode": {
    "name": "ipython",
    "version": 3
   },
   "file_extension": ".py",
   "mimetype": "text/x-python",
   "name": "python",
   "nbconvert_exporter": "python",
   "pygments_lexer": "ipython3",
   "version": "3.8.8"
  }
 },
 "nbformat": 4,
 "nbformat_minor": 5
}
